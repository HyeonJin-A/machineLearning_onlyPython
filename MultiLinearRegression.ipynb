{
 "cells": [
  {
   "cell_type": "markdown",
   "metadata": {},
   "source": [
    "b를 w0로 생각"
   ]
  },
  {
   "cell_type": "code",
   "execution_count": 1,
   "metadata": {},
   "outputs": [],
   "source": [
    "def MSE(x,y,w,b):\n",
    "    cost = 0\n",
    "    for j in range(len(x[0])):\n",
    "        wx=0\n",
    "        for i in range(len(x)):\n",
    "            wx += x[i][j]*w[i]\n",
    "        cost += (wx+b-y[j])**2/len(x[0])\n",
    "    return cost"
   ]
  },
  {
   "cell_type": "code",
   "execution_count": 20,
   "metadata": {},
   "outputs": [],
   "source": [
    "def MSE(x,y,w,b):\n",
    "    cost = 0\n",
    "    for xi in x:\n",
    "        cost += (w*xi+b-y)**2/len(x)\n",
    "    return cost"
   ]
  },
  {
   "cell_type": "code",
   "execution_count": 22,
   "metadata": {},
   "outputs": [],
   "source": [
    "x=[[1,1,2,2],[3,3,4,4],[5,5,6,6]]\n",
    "y=[3,5,7]\n",
    "w=[1.0,1.0,1.0,1.0]\n",
    "b=0"
   ]
  },
  {
   "cell_type": "markdown",
   "metadata": {},
   "source": [
    "## 변화량을 활용한 기울기 계산 (미분x)"
   ]
  },
  {
   "cell_type": "code",
   "execution_count": 29,
   "metadata": {},
   "outputs": [],
   "source": [
    "LEARNING_RATE=1e-2\n",
    "\n",
    "def MSE(x,y,w):\n",
    "    wx=0\n",
    "    for wi,xi in zip(w,x):\n",
    "        wx += wi*xi\n",
    "    return (wx-y)**2\n",
    "\n",
    "def calc_gradient_oneBatch(cost_F, x,y,w):\n",
    "    h = 1e-4\n",
    "    grad = []\n",
    "\n",
    "    for i in range(len(w)):\n",
    "        tmp_val = w[i]\n",
    "\n",
    "        # f(x+h) 계산\n",
    "        w[i] = float(tmp_val) + h\n",
    "        fwh1 = cost_F(x,y,w)\n",
    "\n",
    "        # f(x-h) 계산\n",
    "        w[i] = float(tmp_val) - h\n",
    "        fwh2 = cost_F(x,y,w) \n",
    "\n",
    "        grad.append((fwh1 - fwh2) / 2*h)\n",
    "        w[i] = tmp_val # 값 복원\n",
    "\n",
    "    return grad\n",
    "\n",
    "def train(cost_F, x,y,w):\n",
    "    for xi,yi in zip(x,y):\n",
    "        grad = calc_gradient_oneBatch(cost_F, xi,yi,w)\n",
    "        for i in range(len(w)):\n",
    "            w[i] -= grad[i]*LEARNING_RATE\n",
    "    print(w)        "
   ]
  },
  {
   "cell_type": "code",
   "execution_count": 30,
   "metadata": {},
   "outputs": [
    {
     "name": "stdout",
     "output_type": "stream",
     "text": [
      "[0.9999999790000001, 0.9999999790000001, 0.9999999736000001, 0.9999999736000001]\n"
     ]
    }
   ],
   "source": [
    "train(MSE, x,y,w)"
   ]
  },
  {
   "cell_type": "code",
   "execution_count": null,
   "metadata": {},
   "outputs": [],
   "source": []
  },
  {
   "cell_type": "code",
   "execution_count": null,
   "metadata": {},
   "outputs": [],
   "source": [
    "def gradient_(x,y,w,b):\n",
    "    h=1e-5\n",
    "    "
   ]
  },
  {
   "cell_type": "code",
   "execution_count": 15,
   "metadata": {},
   "outputs": [],
   "source": [
    "def calc_gradient_W(x,y,w,b):\n",
    "    h=1e-5\n",
    "#     wh1, wh2 = [], []\n",
    "#     for wi in w:\n",
    "#         wh1.append(wi+h)\n",
    "#         wh2.append(wi-h)\n",
    "    grad = []\n",
    "    for xi,yi,wi in zip(x,y,w):\n",
    "        grad.append((MSE(xi,yi,wi+h,b)-MSE(xi,yi,wi-h,b))/2*h)"
   ]
  },
  {
   "cell_type": "code",
   "execution_count": 16,
   "metadata": {},
   "outputs": [
    {
     "name": "stdout",
     "output_type": "stream",
     "text": [
      "[1.00001, 1.00001, 1.00001] [0.99999, 0.99999, 0.99999]\n"
     ]
    },
    {
     "data": {
      "text/plain": [
       "1.340000000000785e-08"
      ]
     },
     "execution_count": 16,
     "metadata": {},
     "output_type": "execute_result"
    }
   ],
   "source": [
    "calc_gradient_W(x,y,w,b)"
   ]
  },
  {
   "cell_type": "code",
   "execution_count": 19,
   "metadata": {},
   "outputs": [
    {
     "ename": "TypeError",
     "evalue": "list indices must be integers or slices, not tuple",
     "output_type": "error",
     "traceback": [
      "\u001b[1;31m---------------------------------------------------------------------------\u001b[0m",
      "\u001b[1;31mTypeError\u001b[0m                                 Traceback (most recent call last)",
      "\u001b[1;32m<ipython-input-19-783ec2e35abe>\u001b[0m in \u001b[0;36m<module>\u001b[1;34m\u001b[0m\n\u001b[1;32m----> 1\u001b[1;33m \u001b[0mx\u001b[0m\u001b[1;33m[\u001b[0m\u001b[1;33m:\u001b[0m\u001b[1;33m,\u001b[0m\u001b[1;36m1\u001b[0m\u001b[1;33m]\u001b[0m\u001b[1;33m\u001b[0m\u001b[1;33m\u001b[0m\u001b[0m\n\u001b[0m",
      "\u001b[1;31mTypeError\u001b[0m: list indices must be integers or slices, not tuple"
     ]
    }
   ],
   "source": [
    "x[:,1]"
   ]
  },
  {
   "cell_type": "code",
   "execution_count": null,
   "metadata": {},
   "outputs": [],
   "source": []
  }
 ],
 "metadata": {
  "kernelspec": {
   "display_name": "Python 3",
   "language": "python",
   "name": "python3"
  },
  "language_info": {
   "codemirror_mode": {
    "name": "ipython",
    "version": 3
   },
   "file_extension": ".py",
   "mimetype": "text/x-python",
   "name": "python",
   "nbconvert_exporter": "python",
   "pygments_lexer": "ipython3",
   "version": "3.8.5"
  }
 },
 "nbformat": 4,
 "nbformat_minor": 4
}
