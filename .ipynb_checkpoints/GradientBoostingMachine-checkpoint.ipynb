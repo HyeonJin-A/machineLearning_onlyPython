{
 "cells": [
  {
   "cell_type": "markdown",
   "metadata": {},
   "source": [
    " # GradientBoostingClassifier\n",
    " \n",
    " https://scikit-learn.org/stable/modules/generated/sklearn.ensemble.GradientBoostingClassifier.html?highlight=gradientboostingclassifier#sklearn.ensemble.GradientBoostingClassifier\n",
    " \n",
    " - loss : 사용할 loss함수 지정 (default='deviance') {'deviance’, ‘exponential’}\n",
    " - learning_rate (default=0.1)\n",
    " - n_estimators : weak learner 개수 (default=100)\n",
    " - subsample : 데이터를 얼마나 사용할지 비율 설정 (default=1)\n",
    " - min_samples_split : 분할하는 데 필요한 최소 샘플 수 (default=2) {int, float}\n",
    " - min_samples_leaf : 리프 노드에 있어야 하는 최소 샘플 수 (default=1) {int, float}\n",
    " - max_depth : 트리의 최대 깊이 (default=3)\n",
    " - max_features : (default=None) {‘auto’, ‘sqrt’, ‘log2’}\n",
    " - verbose : (default=0) {int}\n",
    " - 너무 많아서 나머진 생략"
   ]
  },
  {
   "cell_type": "code",
   "execution_count": 1,
   "metadata": {},
   "outputs": [
    {
     "name": "stdout",
     "output_type": "stream",
     "text": [
      "GBM 정확도: 0.9825\n"
     ]
    }
   ],
   "source": [
    "from sklearn.ensemble import GradientBoostingClassifier\n",
    "from sklearn.datasets import load_breast_cancer\n",
    "from sklearn.model_selection import train_test_split\n",
    "from sklearn.metrics import accuracy_score\n",
    "SEED=111\n",
    "\n",
    "# 데이터 load 및 split\n",
    "cancer = load_breast_cancer()\n",
    "X_train, X_test, y_train, y_test = train_test_split(cancer.data, cancer.target, test_size=0.2, random_state=SEED)\n",
    "\n",
    "# 모델 학습\n",
    "model = GradientBoostingClassifier(random_state=SEED)\n",
    "model.fit(X_train, y_train)\n",
    "\n",
    "# 예측 및 정확도 확인\n",
    "pred = model.predict(X_test)\n",
    "accuracy = accuracy_score(y_test, pred)\n",
    "print('GBM 정확도: {0:.4f}'.format(accuracy))"
   ]
  },
  {
   "cell_type": "markdown",
   "metadata": {},
   "source": [
    "## 파라미터 서치"
   ]
  },
  {
   "cell_type": "code",
   "execution_count": 15,
   "metadata": {},
   "outputs": [
    {
     "data": {
      "text/plain": [
       "RandomizedSearchCV(cv=3, estimator=GradientBoostingClassifier(random_state=111),\n",
       "                   n_iter=500, n_jobs=8,\n",
       "                   param_distributions={'learning_rate': [0.05, 0.07, 0.1],\n",
       "                                        'loss': ['deviance', 'exponential'],\n",
       "                                        'max_features': ['None', 'auto', 'sqrt',\n",
       "                                                         'log2'],\n",
       "                                        'n_estimators': range(100, 200)},\n",
       "                   random_state=111)"
      ]
     },
     "execution_count": 15,
     "metadata": {},
     "output_type": "execute_result"
    }
   ],
   "source": [
    "from sklearn.model_selection import RandomizedSearchCV\n",
    "\n",
    "params = {\n",
    "    'n_estimators' : range(100,200),\n",
    "    'learning_rate' : [0.05, 0.07, 0.1],\n",
    "    'loss' : ['deviance', 'exponential'],\n",
    "    'max_features' : ['None','auto','sqrt','log2'],\n",
    "    #'max_depth' : range(10,20)\n",
    "}\n",
    "\n",
    "rand_cv = RandomizedSearchCV(estimator=model,\n",
    "                             param_distributions=params,\n",
    "                            n_iter=500,\n",
    "                            cv=3,\n",
    "                             n_jobs=8,\n",
    "                            random_state=SEED)\n",
    "rand_cv.fit(X_train, y_train)"
   ]
  },
  {
   "cell_type": "code",
   "execution_count": 16,
   "metadata": {},
   "outputs": [
    {
     "data": {
      "text/plain": [
       "{'n_estimators': 192,\n",
       " 'max_features': 'auto',\n",
       " 'loss': 'deviance',\n",
       " 'learning_rate': 0.1}"
      ]
     },
     "execution_count": 16,
     "metadata": {},
     "output_type": "execute_result"
    }
   ],
   "source": [
    "rand_cv.best_params_"
   ]
  },
  {
   "cell_type": "code",
   "execution_count": 17,
   "metadata": {},
   "outputs": [
    {
     "data": {
      "text/plain": [
       "0.9758191007319623"
      ]
     },
     "execution_count": 17,
     "metadata": {},
     "output_type": "execute_result"
    }
   ],
   "source": [
    "rand_cv.best_score_"
   ]
  },
  {
   "cell_type": "code",
   "execution_count": null,
   "metadata": {},
   "outputs": [],
   "source": []
  }
 ],
 "metadata": {
  "kernelspec": {
   "display_name": "Python 3",
   "language": "python",
   "name": "python3"
  },
  "language_info": {
   "codemirror_mode": {
    "name": "ipython",
    "version": 3
   },
   "file_extension": ".py",
   "mimetype": "text/x-python",
   "name": "python",
   "nbconvert_exporter": "python",
   "pygments_lexer": "ipython3",
   "version": "3.8.5"
  }
 },
 "nbformat": 4,
 "nbformat_minor": 4
}
